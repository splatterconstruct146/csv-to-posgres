{
 "cells": [
  {
   "cell_type": "markdown",
   "id": "1e9a5e67-f2a9-4b69-a114-22f828d80cde",
   "metadata": {},
   "source": [
    "# Python Script for Importing from a CSV File into a PostgreSQL database"
   ]
  },
  {
   "cell_type": "markdown",
   "id": "d15ae3e7-6264-4e8b-84e1-029b36f013e4",
   "metadata": {
    "tags": []
   },
   "source": [
    "This script takes https://youtu.be/wqBFgaMgFQA as an example/inspiration.\n",
    "\n",
    "The main motivation for using this script is due to SQL being very useful for finding insights in a database. At the time of writing, I'm not as proficient with Python as compared to SQL.\n",
    "\n",
    "Thus, being able to push a csv database into a PostgreSQL database is much more useful for manipulation/queries later as a next step."
   ]
  },
  {
   "cell_type": "markdown",
   "id": "1bf4dc31-1ee0-4872-81de-c82ded994ab2",
   "metadata": {
    "tags": []
   },
   "source": [
    "#### Steps\n",
    "\n",
    "- Import from csv into a pandas df\n",
    "- Clean the table name and remove all extra symbols, spaces, capital letters\n",
    "- Clean the column headers and remove all extra symbols, spaces, capital letters\n",
    "- Write the create table SQL statement\n",
    "- Import the data into the database"
   ]
  },
  {
   "cell_type": "code",
   "execution_count": 3,
   "id": "14e9b328-27f8-4256-8400-c8f64213f2d0",
   "metadata": {
    "tags": []
   },
   "outputs": [],
   "source": [
    "# imports the necessary libraries\n",
    "# os is for allowing python to access and modify directories\n",
    "\n",
    "import os\n",
    "import numpy as np\n",
    "import pandas as pd\n",
    "\n",
    "# psycopg2 is a postgresql adapter for python\n",
    "import psycopg2\n"
   ]
  },
  {
   "cell_type": "code",
   "execution_count": 4,
   "id": "6d13f054-3934-4abb-a7d3-633f3948526c",
   "metadata": {
    "tags": []
   },
   "outputs": [
    {
     "name": "stdout",
     "output_type": "stream",
     "text": [
      "Untitled.ipynb\n",
      "python_to_sql_upload.ipynb\n",
      "total_pop_state_more_than_3rd_least_dense_region.sql\n"
     ]
    }
   ],
   "source": [
    "# look for all files in this directory\n",
    "# this is a bash/shell command; not a python code\n",
    "\n",
    "!ls"
   ]
  },
  {
   "cell_type": "code",
   "execution_count": 5,
   "id": "fb633584-6e4f-4df4-a687-a194c995145d",
   "metadata": {
    "tags": []
   },
   "outputs": [
    {
     "data": {
      "text/html": [
       "<div>\n",
       "<style scoped>\n",
       "    .dataframe tbody tr th:only-of-type {\n",
       "        vertical-align: middle;\n",
       "    }\n",
       "\n",
       "    .dataframe tbody tr th {\n",
       "        vertical-align: top;\n",
       "    }\n",
       "\n",
       "    .dataframe thead th {\n",
       "        text-align: right;\n",
       "    }\n",
       "</style>\n",
       "<table border=\"1\" class=\"dataframe\">\n",
       "  <thead>\n",
       "    <tr style=\"text-align: right;\">\n",
       "      <th></th>\n",
       "      <th>region</th>\n",
       "      <th>state</th>\n",
       "      <th>individuals</th>\n",
       "      <th>family_members</th>\n",
       "      <th>state_pop</th>\n",
       "    </tr>\n",
       "  </thead>\n",
       "  <tbody>\n",
       "    <tr>\n",
       "      <th>0</th>\n",
       "      <td>East South Central</td>\n",
       "      <td>Alabama</td>\n",
       "      <td>2570.0</td>\n",
       "      <td>864.0</td>\n",
       "      <td>4887681</td>\n",
       "    </tr>\n",
       "    <tr>\n",
       "      <th>1</th>\n",
       "      <td>Pacific</td>\n",
       "      <td>Alaska</td>\n",
       "      <td>1434.0</td>\n",
       "      <td>582.0</td>\n",
       "      <td>735139</td>\n",
       "    </tr>\n",
       "    <tr>\n",
       "      <th>2</th>\n",
       "      <td>Mountain</td>\n",
       "      <td>Arizona</td>\n",
       "      <td>7259.0</td>\n",
       "      <td>2606.0</td>\n",
       "      <td>7158024</td>\n",
       "    </tr>\n",
       "    <tr>\n",
       "      <th>3</th>\n",
       "      <td>West South Central</td>\n",
       "      <td>Arkansas</td>\n",
       "      <td>2280.0</td>\n",
       "      <td>432.0</td>\n",
       "      <td>3009733</td>\n",
       "    </tr>\n",
       "    <tr>\n",
       "      <th>4</th>\n",
       "      <td>Pacific</td>\n",
       "      <td>California</td>\n",
       "      <td>109008.0</td>\n",
       "      <td>20964.0</td>\n",
       "      <td>39461588</td>\n",
       "    </tr>\n",
       "  </tbody>\n",
       "</table>\n",
       "</div>"
      ],
      "text/plain": [
       "               region       state  individuals  family_members  state_pop\n",
       "0  East South Central     Alabama       2570.0           864.0    4887681\n",
       "1             Pacific      Alaska       1434.0           582.0     735139\n",
       "2            Mountain     Arizona       7259.0          2606.0    7158024\n",
       "3  West South Central    Arkansas       2280.0           432.0    3009733\n",
       "4             Pacific  California     109008.0         20964.0   39461588"
      ]
     },
     "execution_count": 5,
     "metadata": {},
     "output_type": "execute_result"
    }
   ],
   "source": [
    "df = pd.read_csv(\"homelessness.csv\")\n",
    "df.head()"
   ]
  },
  {
   "cell_type": "code",
   "execution_count": 6,
   "id": "5230e155-1030-49e7-a1e7-4cdbbdd2bb19",
   "metadata": {
    "tags": []
   },
   "outputs": [
    {
     "data": {
      "text/plain": [
       "'homelessness'"
      ]
     },
     "execution_count": 6,
     "metadata": {},
     "output_type": "execute_result"
    }
   ],
   "source": [
    "#clean table names\n",
    "# only be lower case letters\n",
    "# remove all white spaces and $\n",
    "# replace -, /, \\\\ with _\n",
    "\n",
    "file = \"homelessness\"\n",
    "\n",
    "# note the \\ is used to break code into new lines instead of one long line. looks cleaner\n",
    "    # note no space after the \\\n",
    "# note the r forces python to recognize those symbols as raw string instead of parentheses or slash\n",
    "clean_table_name = file.lower().replace(\" \",\"_\").replace(\"?\", \"\") \\\n",
    "                    .replace(\"-\", \"_\").replace(r\"/\", \"_\").replace(\"\\\\\",\"_\").replace(\"%\",\"\") \\\n",
    "                    .replace(\")\", \"\").replace(r\"(\", \"\").replace(\"$\", \"\")\n",
    "\n",
    "clean_table_name"
   ]
  },
  {
   "cell_type": "code",
   "execution_count": 7,
   "id": "f8152e2e-22f6-40bd-b14c-da93a8be9ed8",
   "metadata": {
    "tags": []
   },
   "outputs": [
    {
     "data": {
      "text/plain": [
       "Index(['region', 'state', 'individuals', 'family_members', 'state_pop'], dtype='object')"
      ]
     },
     "execution_count": 7,
     "metadata": {},
     "output_type": "execute_result"
    }
   ],
   "source": [
    "#clean header names\n",
    "# only be lower case letters\n",
    "# remove all white spaces and $\n",
    "# replace -, /, \\\\ with _\n",
    "\n",
    "df.columns = [x.lower().replace(\" \",\"_\").replace(\"?\", \"\") \\\n",
    "                    .replace(\"-\", \"_\").replace(r\"/\", \"_\").replace(\"\\\\\",\"_\").replace(\"%\",\"\") \\\n",
    "                    .replace(\")\", \"\").replace(r\"(\", \"\").replace(\"$\", \"\")for x in df.columns]\n",
    "\n",
    "df.columns"
   ]
  },
  {
   "cell_type": "code",
   "execution_count": 9,
   "id": "be9b9523-220a-434e-acdc-5ea4e281f5fb",
   "metadata": {
    "tags": []
   },
   "outputs": [
    {
     "data": {
      "text/plain": [
       "region             object\n",
       "state              object\n",
       "individuals       float64\n",
       "family_members    float64\n",
       "state_pop           int64\n",
       "dtype: object"
      ]
     },
     "execution_count": 9,
     "metadata": {},
     "output_type": "execute_result"
    }
   ],
   "source": [
    "df.dtypes"
   ]
  },
  {
   "cell_type": "code",
   "execution_count": 10,
   "id": "242dc0c0-c511-4ad7-b365-b677a0332d3b",
   "metadata": {
    "tags": []
   },
   "outputs": [
    {
     "ename": "SyntaxError",
     "evalue": "invalid syntax (870449372.py, line 5)",
     "output_type": "error",
     "traceback": [
      "\u001b[0;36m  Cell \u001b[0;32mIn[10], line 5\u001b[0;36m\u001b[0m\n\u001b[0;31m    create table homelessness\u001b[0m\n\u001b[0m           ^\u001b[0m\n\u001b[0;31mSyntaxError\u001b[0m\u001b[0;31m:\u001b[0m invalid syntax\n"
     ]
    }
   ],
   "source": [
    "# creating a SQL statement to create the database table\n",
    "# the column types should match the columns imported into pandas, but are the sql equivalents\n",
    "# it's fine if this gives an error; it's SQL code and not python\n",
    "\n",
    "create table homelessness\n",
    "(\n",
    "\n",
    "    region         varchar,\n",
    "    state          varchar,\n",
    "    individuals    float,\n",
    "    family_members float,\n",
    "    state_pop      int\n",
    "\n",
    ");"
   ]
  },
  {
   "cell_type": "code",
   "execution_count": 11,
   "id": "d8ce879c-977f-459c-8254-d007408b9fe8",
   "metadata": {
    "tags": []
   },
   "outputs": [
    {
     "data": {
      "text/plain": [
       "{'object': 'varchar',\n",
       " 'float64': 'float',\n",
       " 'int64': 'int',\n",
       " 'datetime64': 'timestamp',\n",
       " 'timedelta64[ns]': 'varchar'}"
      ]
     },
     "execution_count": 11,
     "metadata": {},
     "output_type": "execute_result"
    }
   ],
   "source": [
    "# a pandas dictionary for holding the equivalent python column type and sql column type pairings\n",
    "# we will use a for loop later to automatically do the conversion to pass into the would be database\n",
    "\n",
    "replacements = {\n",
    "   \n",
    "    \"object\": \"varchar\",\n",
    "    \"float64\": \"float\",\n",
    "    \"int64\": \"int\",\n",
    "    \"datetime64\": \"timestamp\",\n",
    "    \"timedelta64[ns]\": \"varchar\"\n",
    "    \n",
    "}\n",
    "\n",
    "replacements"
   ]
  },
  {
   "cell_type": "code",
   "execution_count": 13,
   "id": "a32acf49-85bd-4f8a-b640-cc70c0d0136c",
   "metadata": {
    "tags": []
   },
   "outputs": [
    {
     "data": {
      "text/plain": [
       "'region varchar, state varchar, individuals float, family_members float, state_pop int'"
      ]
     },
     "execution_count": 13,
     "metadata": {},
     "output_type": "execute_result"
    }
   ],
   "source": [
    "# for loop for converting from python column type to sql column type\n",
    "\n",
    "column_string = \", \".join(\"{} {}\".format(n, d) for (n, d) in zip(df.columns, df.dtypes.replace(replacements)))\n",
    "column_string"
   ]
  },
  {
   "cell_type": "code",
   "execution_count": 15,
   "id": "02045715-46ab-4d2e-bf1b-c0089499dad6",
   "metadata": {
    "tags": []
   },
   "outputs": [
    {
     "ename": "OperationalError",
     "evalue": "invalid integer value \"portnum\" for connection option \"port\"\n",
     "output_type": "error",
     "traceback": [
      "\u001b[0;31m---------------------------------------------------------------------------\u001b[0m",
      "\u001b[0;31mOperationalError\u001b[0m                          Traceback (most recent call last)",
      "Cell \u001b[0;32mIn[15], line 10\u001b[0m\n\u001b[1;32m      7\u001b[0m db_host \u001b[38;5;241m=\u001b[39m \u001b[38;5;124m\"\u001b[39m\u001b[38;5;124mblahblahblah.rds.amazonaws.com\u001b[39m\u001b[38;5;124m\"\u001b[39m\n\u001b[1;32m      8\u001b[0m db_port \u001b[38;5;241m=\u001b[39m \u001b[38;5;124m\"\u001b[39m\u001b[38;5;124mportnum\u001b[39m\u001b[38;5;124m\"\u001b[39m\n\u001b[0;32m---> 10\u001b[0m conn \u001b[38;5;241m=\u001b[39m \u001b[43mpsycopg2\u001b[49m\u001b[38;5;241;43m.\u001b[39;49m\u001b[43mconnect\u001b[49m\u001b[43m(\u001b[49m\n\u001b[1;32m     11\u001b[0m \u001b[43m        \u001b[49m\u001b[43mdbname\u001b[49m\u001b[38;5;241;43m=\u001b[39;49m\u001b[43mdb_name\u001b[49m\u001b[43m,\u001b[49m\n\u001b[1;32m     12\u001b[0m \u001b[43m        \u001b[49m\u001b[43muser\u001b[49m\u001b[38;5;241;43m=\u001b[39;49m\u001b[43mdb_user\u001b[49m\u001b[43m,\u001b[49m\n\u001b[1;32m     13\u001b[0m \u001b[43m        \u001b[49m\u001b[43mpassword\u001b[49m\u001b[38;5;241;43m=\u001b[39;49m\u001b[43mdb_password\u001b[49m\u001b[43m,\u001b[49m\n\u001b[1;32m     14\u001b[0m \u001b[43m        \u001b[49m\u001b[43mhost\u001b[49m\u001b[38;5;241;43m=\u001b[39;49m\u001b[43mdb_host\u001b[49m\u001b[43m,\u001b[49m\n\u001b[1;32m     15\u001b[0m \u001b[43m        \u001b[49m\u001b[43mport\u001b[49m\u001b[38;5;241;43m=\u001b[39;49m\u001b[43mdb_port\u001b[49m\n\u001b[1;32m     16\u001b[0m \u001b[43m)\u001b[49m\n\u001b[1;32m     18\u001b[0m \u001b[38;5;28;01mif\u001b[39;00m conn \u001b[38;5;129;01mis\u001b[39;00m \u001b[38;5;129;01mnot\u001b[39;00m \u001b[38;5;28;01mNone\u001b[39;00m:\n\u001b[1;32m     19\u001b[0m     \u001b[38;5;28mprint\u001b[39m(\u001b[38;5;124m'\u001b[39m\u001b[38;5;124mopened database successfully\u001b[39m\u001b[38;5;124m'\u001b[39m)\n",
      "File \u001b[0;32m/usr/lib/python3.10/site-packages/psycopg2/__init__.py:122\u001b[0m, in \u001b[0;36mconnect\u001b[0;34m(dsn, connection_factory, cursor_factory, **kwargs)\u001b[0m\n\u001b[1;32m    119\u001b[0m     kwasync[\u001b[38;5;124m'\u001b[39m\u001b[38;5;124masync_\u001b[39m\u001b[38;5;124m'\u001b[39m] \u001b[38;5;241m=\u001b[39m kwargs\u001b[38;5;241m.\u001b[39mpop(\u001b[38;5;124m'\u001b[39m\u001b[38;5;124masync_\u001b[39m\u001b[38;5;124m'\u001b[39m)\n\u001b[1;32m    121\u001b[0m dsn \u001b[38;5;241m=\u001b[39m _ext\u001b[38;5;241m.\u001b[39mmake_dsn(dsn, \u001b[38;5;241m*\u001b[39m\u001b[38;5;241m*\u001b[39mkwargs)\n\u001b[0;32m--> 122\u001b[0m conn \u001b[38;5;241m=\u001b[39m \u001b[43m_connect\u001b[49m\u001b[43m(\u001b[49m\u001b[43mdsn\u001b[49m\u001b[43m,\u001b[49m\u001b[43m \u001b[49m\u001b[43mconnection_factory\u001b[49m\u001b[38;5;241;43m=\u001b[39;49m\u001b[43mconnection_factory\u001b[49m\u001b[43m,\u001b[49m\u001b[43m \u001b[49m\u001b[38;5;241;43m*\u001b[39;49m\u001b[38;5;241;43m*\u001b[39;49m\u001b[43mkwasync\u001b[49m\u001b[43m)\u001b[49m\n\u001b[1;32m    123\u001b[0m \u001b[38;5;28;01mif\u001b[39;00m cursor_factory \u001b[38;5;129;01mis\u001b[39;00m \u001b[38;5;129;01mnot\u001b[39;00m \u001b[38;5;28;01mNone\u001b[39;00m:\n\u001b[1;32m    124\u001b[0m     conn\u001b[38;5;241m.\u001b[39mcursor_factory \u001b[38;5;241m=\u001b[39m cursor_factory\n",
      "\u001b[0;31mOperationalError\u001b[0m: invalid integer value \"portnum\" for connection option \"port\"\n"
     ]
    }
   ],
   "source": [
    "# open a database connection\n",
    "# database is a postresql database - that's why we needed to import psycopg2 in the beginning\n",
    "\n",
    "db_name = \"dbname\"\n",
    "db_user = \"dbusername\"\n",
    "db_password = \"dbpassword\"\n",
    "db_host = \"blahblahblah.rds.amazonaws.com\"\n",
    "db_port = \"portnum\"\n",
    "\n",
    "conn = psycopg2.connect(\n",
    "        dbname=db_name,\n",
    "        user=db_user,\n",
    "        password=db_password,\n",
    "        host=db_host,\n",
    "        port=db_port\n",
    ")\n",
    "\n",
    "if conn is not None:\n",
    "    print('opened database successfully')\n",
    "\n",
    "    cursor = conn.cursor()\n",
    "\n",
    "# if nothing is printing, check the connection - especially security group settings\n",
    "# by default the default security group blocks all ip addressess - add whitelist, or for simplicity allow all ip addressess"
   ]
  },
  {
   "cell_type": "code",
   "execution_count": 16,
   "id": "0d0b1a72-50a9-460f-8e3e-c3012ee160ca",
   "metadata": {
    "tags": []
   },
   "outputs": [
    {
     "ename": "NameError",
     "evalue": "name 'cursor' is not defined",
     "output_type": "error",
     "traceback": [
      "\u001b[0;31m---------------------------------------------------------------------------\u001b[0m",
      "\u001b[0;31mNameError\u001b[0m                                 Traceback (most recent call last)",
      "Cell \u001b[0;32mIn[16], line 3\u001b[0m\n\u001b[1;32m      1\u001b[0m \u001b[38;5;66;03m# drop tables with the same name\u001b[39;00m\n\u001b[0;32m----> 3\u001b[0m \u001b[43mcursor\u001b[49m\u001b[38;5;241m.\u001b[39mexecute(\u001b[38;5;124m\"\u001b[39m\u001b[38;5;124mdrop table if exists homelessness;\u001b[39m\u001b[38;5;124m\"\u001b[39m)\n",
      "\u001b[0;31mNameError\u001b[0m: name 'cursor' is not defined"
     ]
    }
   ],
   "source": [
    "# drop tables with the same name\n",
    "\n",
    "cursor.execute(\"drop table if exists homelessness;\")"
   ]
  },
  {
   "cell_type": "code",
   "execution_count": 17,
   "id": "f89a7b52-7352-4ab4-b7f3-280988cd561c",
   "metadata": {
    "tags": []
   },
   "outputs": [
    {
     "ename": "NameError",
     "evalue": "name 'cursor' is not defined",
     "output_type": "error",
     "traceback": [
      "\u001b[0;31m---------------------------------------------------------------------------\u001b[0m",
      "\u001b[0;31mNameError\u001b[0m                                 Traceback (most recent call last)",
      "Cell \u001b[0;32mIn[17], line 4\u001b[0m\n\u001b[1;32m      1\u001b[0m \u001b[38;5;66;03m# create table\u001b[39;00m\n\u001b[1;32m      2\u001b[0m \u001b[38;5;66;03m# copy the output from [10] cuz that's the cleaned output we want to use for the sql table\u001b[39;00m\n\u001b[0;32m----> 4\u001b[0m \u001b[43mcursor\u001b[49m\u001b[38;5;241m.\u001b[39mexecute(\u001b[38;5;124m\"\u001b[39m\u001b[38;5;124mcreate table homelessness\u001b[39m\u001b[38;5;130;01m\\\u001b[39;00m\n\u001b[1;32m      5\u001b[0m \u001b[38;5;124m(region varchar, state varchar, individuals float, family_members float, state_pop int)\u001b[39m\u001b[38;5;124m\"\u001b[39m)\n",
      "\u001b[0;31mNameError\u001b[0m: name 'cursor' is not defined"
     ]
    }
   ],
   "source": [
    "# create table\n",
    "# copy the output from [10] cuz that's the cleaned output we want to use for the sql table\n",
    "\n",
    "cursor.execute(\"create table homelessness\\\n",
    "(region varchar, state varchar, individuals float, family_members float, state_pop int)\")\n"
   ]
  },
  {
   "cell_type": "code",
   "execution_count": 18,
   "id": "0462009c-7bce-47f6-beb9-e8c35ab41a35",
   "metadata": {
    "tags": []
   },
   "outputs": [
    {
     "name": "stdout",
     "output_type": "stream",
     "text": [
      "file opened in memory\n"
     ]
    }
   ],
   "source": [
    "# insert values into table\n",
    "\n",
    "# saving df to csv\n",
    "df.to_csv('homelessness_cleaned.csv', header = df.columns, index = False, encoding = 'utf-8')\n",
    "\n",
    "# open the csv file, save it as an object\n",
    "my_file = open('homelessness_cleaned.csv')\n",
    "print('file opened in memory')"
   ]
  },
  {
   "cell_type": "code",
   "execution_count": 19,
   "id": "8c354fcd-87b3-4e1a-a0b9-0028c14ccc54",
   "metadata": {
    "tags": []
   },
   "outputs": [
    {
     "ename": "NameError",
     "evalue": "name 'cursor' is not defined",
     "output_type": "error",
     "traceback": [
      "\u001b[0;31m---------------------------------------------------------------------------\u001b[0m",
      "\u001b[0;31mNameError\u001b[0m                                 Traceback (most recent call last)",
      "Cell \u001b[0;32mIn[19], line 12\u001b[0m\n\u001b[1;32m      1\u001b[0m \u001b[38;5;66;03m# upload file to db\u001b[39;00m\n\u001b[1;32m      2\u001b[0m \u001b[38;5;66;03m# file is open in memory right now; not as a file - so the method to upload is not a simple \"INSERT\" statement\u001b[39;00m\n\u001b[1;32m      3\u001b[0m \u001b[38;5;66;03m# we're copying the entire object in memory and all its values\u001b[39;00m\n\u001b[1;32m      5\u001b[0m SQL_STATEMENT \u001b[38;5;241m=\u001b[39m \u001b[38;5;124m\"\"\"\u001b[39m\n\u001b[1;32m      6\u001b[0m \u001b[38;5;124mCOPY homelessness FROM STDIN WITH\u001b[39m\n\u001b[1;32m      7\u001b[0m \u001b[38;5;124m    CSV\u001b[39m\n\u001b[1;32m      8\u001b[0m \u001b[38;5;124m    HEADER\u001b[39m\n\u001b[1;32m      9\u001b[0m \u001b[38;5;124m    DELIMITER AS \u001b[39m\u001b[38;5;124m'\u001b[39m\u001b[38;5;124m,\u001b[39m\u001b[38;5;124m'\u001b[39m\n\u001b[1;32m     10\u001b[0m \u001b[38;5;124m\"\"\"\u001b[39m\n\u001b[0;32m---> 12\u001b[0m \u001b[43mcursor\u001b[49m\u001b[38;5;241m.\u001b[39mcopy_expert(sql\u001b[38;5;241m=\u001b[39mSQL_STATEMENT, file\u001b[38;5;241m=\u001b[39mmy_file)\n\u001b[1;32m     13\u001b[0m \u001b[38;5;28mprint\u001b[39m(\u001b[38;5;124m'\u001b[39m\u001b[38;5;124mfile copied to db\u001b[39m\u001b[38;5;124m'\u001b[39m)\n",
      "\u001b[0;31mNameError\u001b[0m: name 'cursor' is not defined"
     ]
    }
   ],
   "source": [
    "# upload file to db\n",
    "# file is open in memory right now; not as a file - so the method to upload is not a simple \"INSERT\" statement\n",
    "# we're copying the entire object in memory and all its values\n",
    "\n",
    "SQL_STATEMENT = \"\"\"\n",
    "COPY homelessness FROM STDIN WITH\n",
    "    CSV\n",
    "    HEADER\n",
    "    DELIMITER AS ','\n",
    "\"\"\"\n",
    "\n",
    "cursor.copy_expert(sql=SQL_STATEMENT, file=my_file)\n",
    "print('file copied to db')"
   ]
  },
  {
   "cell_type": "code",
   "execution_count": 20,
   "id": "0d90cad0-41ae-40f6-b52c-01c1bf2c7d59",
   "metadata": {
    "tags": []
   },
   "outputs": [
    {
     "ename": "NameError",
     "evalue": "name 'cursor' is not defined",
     "output_type": "error",
     "traceback": [
      "\u001b[0;31m---------------------------------------------------------------------------\u001b[0m",
      "\u001b[0;31mNameError\u001b[0m                                 Traceback (most recent call last)",
      "Cell \u001b[0;32mIn[20], line 3\u001b[0m\n\u001b[1;32m      1\u001b[0m \u001b[38;5;66;03m# granting multiple people access to the table if the default setting of the table is to not let other people to connect\u001b[39;00m\n\u001b[0;32m----> 3\u001b[0m \u001b[43mcursor\u001b[49m\u001b[38;5;241m.\u001b[39mexecute(\u001b[38;5;124m\"\u001b[39m\u001b[38;5;124mgrant select on table homelessness to public\u001b[39m\u001b[38;5;124m\"\u001b[39m)\n\u001b[1;32m      4\u001b[0m conn\u001b[38;5;241m.\u001b[39mcommit()\n\u001b[1;32m      6\u001b[0m \u001b[38;5;66;03m# closing the connection\u001b[39;00m\n",
      "\u001b[0;31mNameError\u001b[0m: name 'cursor' is not defined"
     ]
    }
   ],
   "source": [
    "# granting multiple people access to the table if the default setting of the table is to not let other people to connect\n",
    "\n",
    "cursor.execute(\"grant select on table homelessness to public\")\n",
    "conn.commit()\n",
    "\n",
    "# closing the connection\n",
    "cursor.close()\n",
    "print('table homelessness imported into db completed')"
   ]
  }
 ],
 "metadata": {
  "kernelspec": {
   "display_name": "Python 3 (ipykernel)",
   "language": "python",
   "name": "python3"
  },
  "language_info": {
   "codemirror_mode": {
    "name": "ipython",
    "version": 3
   },
   "file_extension": ".py",
   "mimetype": "text/x-python",
   "name": "python",
   "nbconvert_exporter": "python",
   "pygments_lexer": "ipython3",
   "version": "3.10.10"
  }
 },
 "nbformat": 4,
 "nbformat_minor": 5
}
